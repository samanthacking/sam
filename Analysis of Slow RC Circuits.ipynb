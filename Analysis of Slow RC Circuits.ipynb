{
 "cells": [
  {
   "cell_type": "code",
   "execution_count": 1,
   "metadata": {},
   "outputs": [],
   "source": [
    "import numpy as np\n",
    "import matplotlib.pyplot as plt\n",
    "\n",
    "def rule3(dA,dB):\n",
    "    dQ = np.sqrt(dA**2+dB**2)\n",
    "    return dQ\n",
    "\n",
    "def rule4(q,m,dA,A,n,dB,B):\n",
    "    dQ = q*np.sqrt((m*dA/A)**2+(n*dB/B)**2)\n",
    "    return dQ\n",
    "\n",
    "def deltatau(x):\n",
    "    stddev = np.std(x)/np.sqrt(x.size)\n",
    "    return stddev"
   ]
  },
  {
   "cell_type": "code",
   "execution_count": 3,
   "metadata": {},
   "outputs": [
    {
     "data": {
      "text/plain": [
       "[<matplotlib.lines.Line2D at 0x119e6eb38>]"
      ]
     },
     "execution_count": 3,
     "metadata": {},
     "output_type": "execute_result"
    },
    {
     "data": {
      "image/png": "[encoded data removed]",
      "text/plain": [
       "<Figure size 432x288 with 1 Axes>"
      ]
     },
     "metadata": {
      "needs_background": "light"
     },
     "output_type": "display_data"
    }
   ],
   "source": [
    "#Charging Capacitor\n",
    "\n",
    "Vo = 11.7 #volts\n",
    "dVo = .01 \n",
    "V = np.array([0,3.77,6.3,8.02,9.2,9.94,10.54,10.9,11.13,11.3,11.39,11.45,11.50]) #volts\n",
    "t = np.array([0,10,20,30,40,50,60,70,80,90,100,110,120]) #seconds\n",
    "\n",
    "plt.plot(V,t)"
   ]
  },
  {
   "cell_type": "code",
   "execution_count": 5,
   "metadata": {},
   "outputs": [
    {
     "data": {
      "text/plain": [
       "[<matplotlib.lines.Line2D at 0x11a0b5860>]"
      ]
     },
     "execution_count": 5,
     "metadata": {},
     "output_type": "execute_result"
    },
    {
     "data": {
      "image/png": "[encoded data removed]",
      "text/plain": [
       "<Figure size 432x288 with 1 Axes>"
      ]
     },
     "metadata": {
      "needs_background": "light"
     },
     "output_type": "display_data"
    }
   ],
   "source": [
    "#Discharging Capacitor\n",
    "\n",
    "Vo = 11.7 #volts\n",
    "dVo = .01 \n",
    "V = np.array([11.68,7.89,5.45,3.78,2.63,1.83,1.28,.88,.62,.44,.31,.22,.16]) #volts\n",
    "t = np.array([0,10,20,30,40,50,60,70,80,90,100,110,120]) #seconds\n",
    "\n",
    "plt.plot(V,t)"
   ]
  },
  {
   "cell_type": "code",
   "execution_count": 6,
   "metadata": {},
   "outputs": [
    {
     "name": "stdout",
     "output_type": "stream",
     "text": [
      "tau =  27.04526 +/-  0.05055706973312436 seconds.\n"
     ]
    }
   ],
   "source": [
    "#ideal\n",
    "\n",
    "R = 502.7e3 #ohms\n",
    "dR = .1e3\n",
    "\n",
    "C = 53.8e-6 #F\n",
    "dC = .1e-6\n",
    "\n",
    "tau_calc = R * C\n",
    "\n",
    "dtau_calc = rule4(tau_calc,1,dR,R,1,dC,C)\n",
    "\n",
    "print('tau = ',tau_calc,'+/- ',dtau_calc,'seconds.')"
   ]
  },
  {
   "cell_type": "code",
   "execution_count": 7,
   "metadata": {},
   "outputs": [
    {
     "name": "stdout",
     "output_type": "stream",
     "text": [
      "Discharge time =  27.677999999999997 +/-  0.14086731345489645 seconds.\n",
      "Charge time =  24.479999999999997 +/-  0.21252293993825697 seconds.\n"
     ]
    }
   ],
   "source": [
    "#measured\n",
    "\n",
    "td = np.array([26.56,28,27.6,28.1,27.66,27.63,27.49,28,27.53,28.21])\n",
    "tc = np.array([26.36,24.13,24.26,24.4,24.47,23.83,23.89,24.5,24.35,24.61])\n",
    "\n",
    "avg_td = sum(td)/len(td)\n",
    "avg_tc = sum(tc)/len(tc)\n",
    "\n",
    "dtd = deltatau(td)\n",
    "dtc = deltatau(tc)\n",
    "\n",
    "print('Discharge time = ',avg_td,'+/- ',dtd,'seconds.')\n",
    "print('Charge time = ',avg_tc,'+/- ',dtc,'seconds.')"
   ]
  },
  {
   "cell_type": "code",
   "execution_count": null,
   "metadata": {},
   "outputs": [],
   "source": []
  }
 ],
 "metadata": {
  "kernelspec": {
   "display_name": "Python 3",
   "language": "python",
   "name": "python3"
  },
  "language_info": {
   "codemirror_mode": {
    "name": "ipython",
    "version": 3
   },
   "file_extension": ".py",
   "mimetype": "text/x-python",
   "name": "python",
   "nbconvert_exporter": "python",
   "pygments_lexer": "ipython3",
   "version": "3.7.3"
  }
 },
 "nbformat": 4,
 "nbformat_minor": 2
}

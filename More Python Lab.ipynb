{
 "cells": [
  {
   "cell_type": "code",
   "execution_count": 1,
   "metadata": {},
   "outputs": [],
   "source": [
    "import numpy as np"
   ]
  },
  {
   "cell_type": "code",
   "execution_count": 2,
   "metadata": {},
   "outputs": [],
   "source": [
    "#rule 3\n",
    "\n",
    "def rule3(dA,dB):\n",
    "    dQ = np.sqrt(dA**2+dB**2)\n",
    "    return dQ"
   ]
  },
  {
   "cell_type": "code",
   "execution_count": 22,
   "metadata": {},
   "outputs": [],
   "source": [
    "#rule 4\n",
    "\n",
    "def rule4(q,m,dA,A,n,dB,B,o,dC,C):\n",
    "    dQ = q*np.sqrt((m*dA/A)**2+(n*dB/B)**2+(o*dC/C)**2)\n",
    "    return dQ"
   ]
  },
  {
   "cell_type": "code",
   "execution_count": 11,
   "metadata": {},
   "outputs": [],
   "source": [
    "L = 1.05\n",
    "dL = 0.001\n",
    "change_L = 0.00125\n",
    "dchange_L = 0.00001\n",
    "T_initial = 23.4\n",
    "T_final = 92.5\n",
    "dT_initial = 0.3\n",
    "dT_final = 0.1"
   ]
  },
  {
   "cell_type": "code",
   "execution_count": 27,
   "metadata": {},
   "outputs": [
    {
     "name": "stdout",
     "output_type": "stream",
     "text": [
      "change in T 69.1 degrees celsius\n"
     ]
    }
   ],
   "source": [
    "change_T = T_final-T_initial\n",
    "print (\"change in T\",change_T,\"degrees celsius\")"
   ]
  },
  {
   "cell_type": "code",
   "execution_count": 26,
   "metadata": {},
   "outputs": [
    {
     "name": "stdout",
     "output_type": "stream",
     "text": [
      "alpha = 1.722830955826614e-05 1/degrees celsius\n"
     ]
    }
   ],
   "source": [
    "alpha = change_L/L/(T_final-T_initial)\n",
    "print (\"alpha =\",alpha,\"1/degrees celsius\")"
   ]
  },
  {
   "cell_type": "code",
   "execution_count": 28,
   "metadata": {},
   "outputs": [
    {
     "name": "stdout",
     "output_type": "stream",
     "text": [
      "uncertainty in change in T 0.31622776601683794 degrees celsius\n"
     ]
    }
   ],
   "source": [
    "dchange_T = rule3(dT_initial,dT_final)\n",
    "print (\"uncertainty in change in T\",dchange_T,\"degrees celsius\")"
   ]
  },
  {
   "cell_type": "code",
   "execution_count": 29,
   "metadata": {},
   "outputs": [
    {
     "name": "stdout",
     "output_type": "stream",
     "text": [
      "uncertainty in alpha 1.596296282604527e-07 1/degrees celsius\n"
     ]
    }
   ],
   "source": [
    "dalpha = rule4(alpha,1,dchange_L,change_L,1,dL,L,1,dchange_T,change_T)\n",
    "print (\"uncertainty in alpha\",dalpha,\"1/degrees celsius\")"
   ]
  },
  {
   "cell_type": "markdown",
   "metadata": {},
   "source": []
  },
  {
   "cell_type": "code",
   "execution_count": null,
   "metadata": {},
   "outputs": [],
   "source": []
  }
 ],
 "metadata": {
  "kernelspec": {
   "display_name": "Python 3",
   "language": "python",
   "name": "python3"
  },
  "language_info": {
   "codemirror_mode": {
    "name": "ipython",
    "version": 3
   },
   "file_extension": ".py",
   "mimetype": "text/x-python",
   "name": "python",
   "nbconvert_exporter": "python",
   "pygments_lexer": "ipython3",
   "version": "3.7.3"
  }
 },
 "nbformat": 4,
 "nbformat_minor": 2
}
